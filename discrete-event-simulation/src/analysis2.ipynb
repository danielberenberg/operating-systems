{
 "cells": [
  {
   "cell_type": "markdown",
   "metadata": {},
   "source": [
    "# analysis\n",
    "Analyzing each type of quantum among exponential, uniform, and constant"
   ]
  },
  {
   "cell_type": "code",
   "execution_count": 1,
   "metadata": {
    "collapsed": true
   },
   "outputs": [],
   "source": [
    "from glob import glob\n",
    "import sys, os\n",
    "import matplotlib.pyplot as plt\n",
    "import pickle\n",
    "import numpy as np\n",
    "import desutils\n",
    "from functools import reduce\n",
    "from matplotlib.lines import Line2D"
   ]
  },
  {
   "cell_type": "code",
   "execution_count": 92,
   "metadata": {
    "collapsed": true
   },
   "outputs": [],
   "source": [
    "cpu3    = \"batchInteractive_ConstantQ_3cpu/\"\n",
    "cpu1    = \"batchInteractive_1cpu/\"\n",
    "rl_cpu1 = \"batchInteractive_1cpu_rl/\"\n",
    "rl_cpu3 = 'batchInteractive_RL_3cpu/'"
   ]
  },
  {
   "cell_type": "code",
   "execution_count": 119,
   "metadata": {
    "collapsed": true
   },
   "outputs": [],
   "source": [
    "cpu1_qs = sorted(list(filter(os.path.isdir, glob(os.path.join(cpu1, '*')))))\n",
    "cpu3_qs   = sorted(list(filter(os.path.isdir, glob(os.path.join(cpu3, '*')))))\n",
    "rl_cpu1_qs = sorted(list(filter(os.path.isdir, glob(os.path.join(rl_cpu1, '*')))))\n",
    "rl_cpu3_qs = sorted(list(filter(os.path.isdir, glob(os.path.join(rl_cpu3, '*')))))"
   ]
  },
  {
   "cell_type": "code",
   "execution_count": 94,
   "metadata": {},
   "outputs": [
    {
     "data": {
      "text/plain": [
       "['batchInteractive_1cpu/DESQuantum__0000',\n",
       " 'batchInteractive_1cpu/DESQuantum__0001']"
      ]
     },
     "execution_count": 94,
     "metadata": {},
     "output_type": "execute_result"
    }
   ],
   "source": [
    "cpu1_qs"
   ]
  },
  {
   "cell_type": "markdown",
   "metadata": {},
   "source": [
    "- (average) number of processes completed per quantum\n",
    "- (average) throughput per process"
   ]
  },
  {
   "cell_type": "code",
   "execution_count": 164,
   "metadata": {
    "collapsed": true
   },
   "outputs": [],
   "source": [
    "def get_pickle(filename):\n",
    "    with open(filename, 'rb') as pk:\n",
    "        return pickle.load(pk)\n",
    "    \n",
    "def get_sims(quantum_dir):\n",
    "    sims = sorted(glob(os.path.join(quantum_dir, \"pickles/*\")))\n",
    "    print(f\"\\r{80*' '}\\r{quantum_dir}\", end='',flush=True)\n",
    "    return [get_pickle(simfile) for simfile in sims]\n",
    "\n",
    "def cache_handle(handler):\n",
    "    \"\"\"\n",
    "    decorator to do arbitrary pickle caching\n",
    "    args:\n",
    "        :handler (function) - returns the data if it is not cached\n",
    "        args:\n",
    "            :pkf (str) - path to check for caching\n",
    "            :*args - the arguments that handler takes\n",
    "        returns:\n",
    "            :the object that will be pickled at pkf\n",
    "    \"\"\"\n",
    "    def wrapper(pkf, *args):\n",
    "        if not isinstance(pkf, str):\n",
    "            raise ValueError\n",
    "        try:\n",
    "            with open(pkf,'rb') as pk:\n",
    "                print(f\"{pkf} is cached!\")\n",
    "                return pickle.load(pk)\n",
    "        except FileNotFoundError:\n",
    "            o = handler(*args)\n",
    "            with open(pkf,'wb') as pk:\n",
    "                pickle.dump(o,pk)\n",
    "                print(f\"cached content to {pkf}\")\n",
    "            return o\n",
    "    return wrapper\n",
    "\n",
    "@cache_handle\n",
    "def param_per_t(q, param):\n",
    "    return [param_per_t_(get_sims(qdir), param) for qdir in q]\n",
    "\n",
    "def param_per_t_(sims, param):\n",
    "    aggregator = dict()\n",
    "    ptypes = sims[0].factory.process_types\n",
    "    for sim in sims:\n",
    "        for t in sim.time_parameterized_process_stats:\n",
    "            t_proc_stats = sim.time_parameterized_process_stats[t]\n",
    "            for ptype in ptypes:\n",
    "                try:\n",
    "                    if isinstance(t_proc_stats[ptype][param], int):\n",
    "                        aggregator[t][ptype].append(t_proc_stats[ptype][param])\n",
    "                    else:\n",
    "                        aggregator[t][ptype].extend(t_proc_stats[ptype][param])\n",
    "\n",
    "                except KeyError:\n",
    "                    aggregator[t] = {ptype:[] for ptype in ptypes}\n",
    "\n",
    "                    if isinstance(t_proc_stats[ptype][param], int):\n",
    "                        aggregator[t][ptype].append(t_proc_stats[ptype][param])\n",
    "                    else:\n",
    "                        aggregator[t][ptype].extend(t_proc_stats[ptype][param])\n",
    "    for t in aggregator:\n",
    "        for ptype in ptypes:\n",
    "            if aggregator[t][ptype]:\n",
    "                #print(aggregator[t][ptype])\n",
    "                aggregator[t][ptype] = np.mean(aggregator[t][ptype])\n",
    "            else:\n",
    "                aggregator[t][ptype] = None\n",
    "    return aggregator, ptypes\n",
    "\n",
    "def per_process_param_per_t(ppt, ptypes, avg=False):\n",
    "    if avg:\n",
    "        time = []\n",
    "        param = []\n",
    "        for t in ppt:\n",
    "            if any(ppt[t][ptype] for ptype in ptypes):\n",
    "                time.append(t)\n",
    "                param.append(np.mean([ppt[t][ptype] for ptype in ptypes if ppt[t][ptype]]))\n",
    "        return time, param\n",
    "\n",
    "    ptype2time_param = {ptype:[[],[]] for ptype in ptypes}\n",
    "    for t in ppt:\n",
    "        for ptype in ptypes:\n",
    "            if ppt[t][ptype]:\n",
    "                ptype2time_param[ptype][0].append(t)\n",
    "                ptype2time_param[ptype][1].append(ppt[t][ptype])\n",
    "                \n",
    "    for ptype in ptypes:\n",
    "        ptype2time_param[ptype][0] = sorted(ptype2time_param[ptype][0])\n",
    "        ptype2time_param[ptype][1] = [ppt[t][ptype] for t in ptype2time_param[ptype][0]]\n",
    "    return ptype2time_param\n",
    "\n",
    "def rl_throughput(tp):        \n",
    "    ptype2tp = dict()\n",
    "    for ptype in tp: \n",
    "        cum_sum = 0\n",
    "        Ts = []\n",
    "        throughput_vals = []\n",
    "        for t, nprocs_completed in sorted(tp[ptype].items(), key=lambda it:it[0]):\n",
    "            #print(nprocs_completed)\n",
    "            mean, std = nprocs_completed\n",
    "            cum_sum += mean\n",
    "            thp = cum_sum/t\n",
    "            Ts.append(t)\n",
    "            throughput_vals.append(thp)\n",
    "        ptype2tp[ptype] = [Ts, throughput_vals]\n",
    "    return ptype2tp\n",
    "\n",
    "def avg_throughput(sims):\n",
    "    ptypes = sims[0].factory.process_types\n",
    "    #for sim in sims:\n",
    "    #    sim.finalize()\n",
    "    \n",
    "    ptype2throughputs = {ptype:dict() for ptype in ptypes}\n",
    "    for ptype in ptypes:\n",
    "        ptype_tp = dict()\n",
    "        for sim in sims:\n",
    "            for t in sim.process_stats[ptype]['throughput']:\n",
    "                try:\n",
    "                    ptype_tp[t].append(sim.process_stats[ptype]['throughput'][t])\n",
    "                except KeyError:\n",
    "                    ptype_tp[t] = [sim.process_stats[ptype]['throughput'][t]]\n",
    "        for t in ptype_tp:\n",
    "            ptype2throughputs[ptype][t] = (np.mean(ptype_tp[t]), np.std(ptype_tp[t]))\n",
    "    return ptype2throughputs\n",
    "\n",
    "@cache_handle\n",
    "def throughput(q):\n",
    "    return [avg_throughput(get_sims(qdir)) for qdir in q]"
   ]
  },
  {
   "cell_type": "code",
   "execution_count": 138,
   "metadata": {},
   "outputs": [
    {
     "name": "stdout",
     "output_type": "stream",
     "text": [
      "batchInteractive_1cpu/wt_per_t.bin is cached!\n",
      "batchInteractive_1cpu/DESQuantum__0200                                          cached content to batchInteractive_1cpu/turnaround.bin\n",
      "batchInteractive_1cpu_rl/wt_per_t.bin is cached!\n",
      "batchInteractive_1cpu_rl/DES_RL                                                 cached content to batchInteractive_1cpu_rl/turnaround.bin\n"
     ]
    }
   ],
   "source": [
    "wait_time_per_t_per_q_cpu1 = param_per_t(os.path.join(cpu1, 'wt_per_t.bin'),cpu1_qs, 'wait_time')\n",
    "turnaround_per_t_per_q_cpu1 = param_per_t(os.path.join(cpu1, 'turnaround.bin'),cpu1_qs, 'turnaround')\n",
    "wait_time_per_t_rl_cpu1 = param_per_t(os.path.join(rl_cpu1, 'wt_per_t.bin'), rl_cpu1_qs, 'wait_time')\n",
    "turnaround_per_t_rl_cpu1 = param_per_t(os.path.join(rl_cpu1, 'turnaround.bin'),rl_cpu1_qs, 'turnaround')\n",
    "\n",
    "#ptype2param = per_process_param_per_t(ppt, ptypes)\n"
   ]
  },
  {
   "cell_type": "code",
   "execution_count": 166,
   "metadata": {},
   "outputs": [
    {
     "name": "stdout",
     "output_type": "stream",
     "text": [
      "batchInteractive_1cpu/DESQuantum__0200                                          cached content to batchInteractive_1cpu/tp.bin\n",
      "batchInteractive_1cpu_rl/DES_RL                                                 cached content to batchInteractive_1cpu_rl/tp.bin\n"
     ]
    }
   ],
   "source": [
    "tp_cpu1 = throughput(os.path.join(cpu1, 'tp.bin'),cpu1_qs)\n",
    "tp_rl = throughput(os.path.join(rl_cpu1,'tp.bin'),rl_cpu1_qs)"
   ]
  },
  {
   "cell_type": "code",
   "execution_count": 167,
   "metadata": {},
   "outputs": [
    {
     "name": "stdout",
     "output_type": "stream",
     "text": [
      "40/41                                                                           \n",
      "40/41                                                                           "
     ]
    }
   ],
   "source": [
    "def avg_final_n(param, n=1000, **kwargs):\n",
    "    return np.mean(param[-n:])\n",
    "\n",
    "avgs_wt = []\n",
    "avgs_tu = []\n",
    "for i,(wt_per_t,ptypes) in enumerate(wait_time_per_t_per_q_cpu1):\n",
    "    print(f\"\\r{80 * ' '}\\r{i}/{len(wait_time_per_t_per_q_cpu1)}\", end='')\n",
    "    time1, const_wt = per_process_param_per_t(wt_per_t, ptypes,avg=True)\n",
    "    avgs_wt.append(avg_final_n(const_wt))\n",
    "print()\n",
    "for i,(tu_per_t,ptypes) in enumerate(turnaround_per_t_per_q_cpu1):\n",
    "    print(f\"\\r{80 * ' '}\\r{i}/{len(wait_time_per_t_per_q_cpu1)}\", end='')\n",
    "    time1, tu_ = per_process_param_per_t(tu_per_t, ptypes,avg=True)\n",
    "    avgs_tu.append(avg_final_n(tu_))    "
   ]
  },
  {
   "cell_type": "code",
   "execution_count": 155,
   "metadata": {
    "collapsed": true
   },
   "outputs": [],
   "source": [
    "tu_per_t_rl, ptypes = turnaround_per_t_rl_cpu1[0]\n",
    "wt_per_t_rl, ptypes = wait_time_per_t_rl_cpu1[0]\n",
    "\n",
    "_, tu_rl = per_process_param_per_t(tu_per_t, ptypes,avg=True)\n",
    "_, wt_rl = per_process_param_per_t(wt_per_t, ptypes,avg=True)"
   ]
  },
  {
   "cell_type": "code",
   "execution_count": 196,
   "metadata": {},
   "outputs": [
    {
     "data": {
      "image/png": "[encoded data removed]",
      "text/plain": [
       "<Figure size 432x288 with 1 Axes>"
      ]
     },
     "metadata": {},
     "output_type": "display_data"
    }
   ],
   "source": [
    "\n",
    "#for t in sorted(tp_rl.items(), key=lambda x:x[0]):\n",
    "#    m, s = tp_rl[t]"
   ]
  },
  {
   "cell_type": "code",
   "execution_count": 226,
   "metadata": {},
   "outputs": [
    {
     "data": {
      "image/png": "[encoded data removed]",
      "text/plain": [
       "<Figure size 432x288 with 2 Axes>"
      ]
     },
     "metadata": {},
     "output_type": "display_data"
    }
   ],
   "source": [
    "fig, (ax1,ax2) = plt.subplots(2,1, sharex=True)\n",
    "\n",
    "ax1.plot(const_qs, avgs_wt, color='k',label='Constant Quantum' )\n",
    "ax2.plot(const_qs, avgs_tu,color='k')\n",
    "\n",
    "#time, rl_wt = per_process_param_per_t(wt_per_t, ptypes,avg=True)\n",
    "\n",
    "#plot_final_n(rl_wt, label='Reinforcement Learning')\n",
    "ax1.axhline(avg_final_n(wt_rl), linestyle='--', color='k',label='Adaptive Preemption')\n",
    "ax1.set_ylabel('Wait time')\n",
    "ax1.set_ylim(0, 2500)\n",
    "ax2.set_ylim(0, 2500)\n",
    "ax2.set_ylabel('Turnaround time')\n",
    "ax2.set_xlabel('Quantum')\n",
    "ax2.axhline(avg_final_n(tu_rl),linestyle='--', color='k')\n",
    "plt.tight_layout()\n",
    "ax1.legend()\n",
    "plt.savefig('turnaround_wt.pdf')\n",
    "plt.show()"
   ]
  },
  {
   "cell_type": "code",
   "execution_count": 218,
   "metadata": {
    "collapsed": true
   },
   "outputs": [],
   "source": [
    "def avg_procs_completed(sims):\n",
    "    \"\"\"\n",
    "    compute the (average across each simulation) number\n",
    "    of processes completed for this quantum\n",
    "    \"\"\"\n",
    "    procs_completed = [des.processes_completed for des in sims]\n",
    "    return np.mean(procs_completed), np.std(procs_completed)\n",
    "\n",
    "@cache_handle\n",
    "def procs_completed(q):\n",
    "    return [avg_procs_completed(get_sims(qdir)) for qdir in q]\n",
    "\n",
    "def avg_wait_time(sims):\n",
    "    ptypes = sims[0].factory.process_types\n",
    "    #for sim in sims:\n",
    "    #    sim.finalize()\n",
    "    \n",
    "    ptype2wt = dict()\n",
    "    for ptype in ptypes:\n",
    "        wt = list(reduce(lambda x1,x2: x1+x2, [des.process_stats[ptype]['wait_time'][-1000:] for des in sims]))\n",
    "        ptype2wt[ptype] = (np.mean(wt),np.std(wt))\n",
    "    return ptype2wt\n",
    "\n",
    "@cache_handle\n",
    "def wait_time(q):\n",
    "    return [avg_wait_time(get_sims(qdir)) for qdir in q]\n",
    "\n",
    "\n",
    "const_qs = [0, 1] + list(range(10,201,5))\n",
    "mean_qs = [1] + list(range(10, 201,5))\n",
    "\n",
    "def join(prefix,suffix):\n",
    "    return os.path.join(prefix, suffix)"
   ]
  },
  {
   "cell_type": "code",
   "execution_count": 199,
   "metadata": {},
   "outputs": [
    {
     "name": "stdout",
     "output_type": "stream",
     "text": [
      "batchInteractive_1cpu/DESQuantum__0200                                          cached content to batchInteractive_1cpu/procs_completed.bin\n",
      "batchInteractive_1cpu_rl/DES_RL                                                 cached content to batchInteractive_1cpu_rl/procs_completed.bin\n"
     ]
    }
   ],
   "source": [
    "cpu1_procs_completed = procs_completed(os.path.join(cpu1,\"procs_completed.bin\"),cpu1_qs)\n",
    "rl_cpu1_procs_comp = procs_completed(join(rl_cpu1,\"procs_completed.bin\"),rl_cpu1_qs)\n"
   ]
  },
  {
   "cell_type": "code",
   "execution_count": 205,
   "metadata": {},
   "outputs": [
    {
     "data": {
      "text/plain": [
       "[(13507.733333333334, 156.9796023550689)]"
      ]
     },
     "execution_count": 205,
     "metadata": {},
     "output_type": "execute_result"
    }
   ],
   "source": [
    "rl_cpu1_procs_comp"
   ]
  },
  {
   "cell_type": "code",
   "execution_count": 225,
   "metadata": {},
   "outputs": [
    {
     "data": {
      "image/png": "[encoded data removed]",
      "text/plain": [
       "<Figure size 432x288 with 1 Axes>"
      ]
     },
     "metadata": {},
     "output_type": "display_data"
    }
   ],
   "source": [
    "cpu1_procs_completed\n",
    "procs_comp_m, procs_comp_s = map(np.array, zip(*cpu1_procs_completed))\n",
    "plt.plot(const_qs, procs_comp_m, label='Constant quantum',color='k')\n",
    "plt.fill_between(const_qs, procs_comp_m + 1.96*procs_comp_s, procs_comp_m - 1.96*procs_comp_s,alpha=0.15,color='k')\n",
    "fll = np.array(rl_cpu1_procs_comp[0][0]*len(const_qs))\n",
    "ci = np.array(rl_cpu1_procs_comp[0][1]*len(const_qs))*1.96\n",
    "plt.axhline(rl_cpu1_procs_comp[0][0], color='k', linestyle='--', label='Adaptive preemption')\n",
    "#plt.fill_between(const_qs, fll + ci, fll - ci)\n",
    "plt.xlabel('Quantum')\n",
    "plt.ylabel('Processes completed')\n",
    "plt.legend(loc='lower right')\n",
    "plt.savefig('processes_completed.pdf')\n",
    "#plt.fill_between(const_qs, rl_cpu1_procs_comp[0][0] )\n",
    "plt.show()"
   ]
  },
  {
   "cell_type": "code",
   "execution_count": 57,
   "metadata": {},
   "outputs": [
    {
     "name": "stdout",
     "output_type": "stream",
     "text": [
      "\r",
      "                                                                                \r",
      "batchInteractiveMalloc_RL_3cpu_decay/DES_RL"
     ]
    }
   ],
   "source": [
    "ppt, ptypes = param_per_t(rl_cpu3_qs, 'wait_time')[0]\n",
    "time, param = per_process_param_per_t(ppt, ptypes, avg=True)"
   ]
  },
  {
   "cell_type": "code",
   "execution_count": 59,
   "metadata": {},
   "outputs": [
    {
     "data": {
      "image/png": "[encoded data removed]",
      "text/plain": [
       "<Figure size 432x288 with 1 Axes>"
      ]
     },
     "metadata": {},
     "output_type": "display_data"
    }
   ],
   "source": [
    "#for ptype in ptype2time_param:\n",
    "#    plt.plot(*ptype2time_param[ptype], marker='o',alpha=0.1)\n",
    "plt.plot(time, param)\n",
    "plt.ylim(0,500)\n",
    "plt.show()"
   ]
  },
  {
   "cell_type": "code",
   "execution_count": 9,
   "metadata": {},
   "outputs": [],
   "source": [
    "# -----\n",
    "#cpu1_procs_completed = procs_completed(os.path.join(cpu1,\"procs_completed.bin\"),cpu1_qs)\n",
    "#cpu1_wt = wait_time(os.path.join(cpu1,\"wait_time.bin\"),cpu1_qs)\n",
    "#cpu1_tp = throughput(os.path.join(cpu1, \"throughput.bin\"),cpu1_qs)\n",
    "# -----\n",
    "#cpu3_procs_completed = procs_completed(join(cpu3,\"procs_completed.bin\"),cpu3_qs)\n",
    "#cpu3_wt = wait_time(join(cpu3,\"wait_time.bin\"),cpu3_qs)\n",
    "#cpu3_tp = throughput(join(cpu3, \"throughput.bin\"),cpu3_qs)\n",
    "# -----\n",
    "#rl_cpu1_procs_comp = procs_completed(join(rl_cpu1,\"procs_completed.bin\"),rl_cpu1_qs)\n",
    "#rl_cpu1_wt = wait_time(join(rl_cpu1,\"wait_time.bin\"),rl_cpu1_qs)\n",
    "#rl_cpu1_tp = throughput(join(rl_cpu1, \"throughput.bin\"),rl_cpu1_qs)\n",
    "# -----\n",
    "#rl_cpu3_procs_comp = procs_completed(join(rl_cpu3,\"procs_completed.bin\"),rl_cpu3_qs)\n",
    "#rl_cpu3_wt = wait_time(join(rl_cpu3,\"wait_time.bin\"),rl_cpu1_qs)\n",
    "#rl_cpu3_tp = throughput(join(rl_cpu3, \"throughput.bin\"),rl_cpu1_qs)"
   ]
  },
  {
   "cell_type": "code",
   "execution_count": 10,
   "metadata": {},
   "outputs": [],
   "source": [
    "#def find_best_wait_time_per_t\n",
    "#best_tp_1cpus, bestwt_1cpu, best_q_1cpus = find_best_throughput_per_t(os.path.join(cpu1,'throughput_max.bin'),cpu1_tp,cpu1_wt, const_qs)\n",
    "#best_tp_3cpus, bestwt_3cpu, best_q_3cpus = find_best_throughput_per_t(os.path.join(cpu3,'throughput_max.bin'),cpu3_tp,cpu1_wt, const_qs)"
   ]
  },
  {
   "cell_type": "code",
   "execution_count": null,
   "metadata": {},
   "outputs": [],
   "source": [
    "cpu3_mean_procs_completed,cpu3_std_procs_completed = zip(*cpu3_procs_completed)\n",
    "cpu1_mean_procs_completed,cpu1_std_procs_completed = zip(*cpu1_procs_completed)\n",
    "rl_cpu1_procs, rl_cpu1_proc_std = zip(*rl_cpu1_procs_comp)\n",
    "rl_cpu3_procs, rl_cpu3_proc_std = zip(*rl_cpu3_procs_comp)\n",
    "\n",
    "#plt.axhline(rl_cpu1_procs, linestyle='--', label=\"AP, 1 CPU\")# #color='k')\n",
    "#plt.axhline(rl_cpu3_procs, linestyle='--', label=\"AP, 3 CPU\")# color=\"C\")\n",
    "#plt.fill_between(const_qs,\n",
    "#                np.array([]len(const_))\n",
    "\n",
    "plt.plot(const_qs,cpu3_mean_procs_completed,label='3 CPUs',marker='o')\n",
    "plt.fill_between(const_qs,\n",
    "                 np.array(cpu3_mean_procs_completed) - 1.96*np.array(cpu3_std_procs_completed),\n",
    "                 np.array(cpu3_mean_procs_completed) + 1.96*np.array(cpu3_std_procs_completed),\n",
    "                 alpha=0.1)\n",
    "plt.fill_between(const_qs,\n",
    "                 np.array(cpu1_mean_procs_completed) - 1.96*np.array(cpu1_std_procs_completed),\n",
    "                 np.array(cpu1_mean_procs_completed) + 1.96*np.array(cpu1_std_procs_completed),\n",
    "                 alpha=0.1)\n",
    "plt.plot(const_qs,cpu1_mean_procs_completed,label='1 CPU',marker='o')\n",
    "\n",
    "plt.legend()\n",
    "plt.xticks(const_qs[::3][:-1] + [const_qs[-1]], const_qs[::3][:-1] + [const_qs[-1]])\n",
    "#plt.ylim(21500,22200)\n",
    "plt.xlabel('Quantum value')\n",
    "plt.ylabel('Processes completed')\n",
    "plt.show()"
   ]
  },
  {
   "cell_type": "code",
   "execution_count": null,
   "metadata": {
    "collapsed": true
   },
   "outputs": [],
   "source": []
  },
  {
   "cell_type": "code",
   "execution_count": null,
   "metadata": {},
   "outputs": [],
   "source": [
    "tp_rl_1cpu = rl_throughput(rl_cpu1_tp[0])"
   ]
  },
  {
   "cell_type": "code",
   "execution_count": null,
   "metadata": {},
   "outputs": [],
   "source": [
    "markers = ['o','^','s']\n",
    "ptypes = list(best_tp_1cpus.keys())\n",
    "ptype2marker = {ptype:markers[i] for i,ptype in enumerate(ptypes)}\n",
    "ptype2color  = {ptype:f\"C{i}\" for i,ptype in enumerate(ptypes)}\n",
    "\n",
    "def plot_wt_per_q(ax,wt,**kwargs):\n",
    "    qs = const_qs\n",
    "    ptype2wt = {ptype:[] for ptype in wt[0]}\n",
    "    for wt_dict in wt:\n",
    "        for ptype in ptype2wt:\n",
    "            ptype2wt[ptype].append(wt_dict[ptype])\n",
    "\n",
    "    for ptype in ptype2wt:\n",
    "        mean, std = zip(*ptype2wt[ptype])\n",
    "        #print(mean[:5])\n",
    "        ax.plot(qs, mean, label=ptype, \n",
    "                color=ptype2color[ptype],\n",
    "                marker=ptype2marker[ptype],\n",
    "                markersize=3.5,\n",
    "                **kwargs)\n",
    "        #ax.set_title(label)\n",
    "        \n",
    "def plot_wt(ax,best_wt,**kwargs):\n",
    "    \n",
    "    for ptype in best_wt:\n",
    "        wait_times, std_wt = zip(*best_wt[ptype])\n",
    "        ax.plot(wait_times, label=ptype,\n",
    "                color=ptype2color[ptype],\n",
    "                markersize=3.5,\n",
    "                marker=ptype2marker[ptype],**kwargs)\n",
    "        \n",
    "def plot_tp(ax, best_tp, **kwargs):\n",
    "    for ptype in best_tp:\n",
    "        X, y = best_tp[ptype]\n",
    "        X, y = X[::2], y[::2]\n",
    "        ax.plot(X,y,label=ptype,\n",
    "                color=ptype2color[ptype],\n",
    "                markersize=3.5,\n",
    "                marker=ptype2marker[ptype], **kwargs)#,marker='o',markersize=0.55,linestyle='')\n",
    "    #ax.set_xscale('log')\n",
    "    #ax.set_yscale('log')\n",
    "    #ax.set_title(rf\"{title} $Q = {best_q}$\")\n",
    "    \n",
    "fig, (ax1, ax2) = plt.subplots(2,1)\n",
    "\n",
    "ax1.set_xscale('log')\n",
    "ax1.set_yscale('log')\n",
    "ax2.set_yscale('log')\n",
    "\n",
    "ax1.set_xlabel(\"$t$\")\n",
    "ax1.set_ylabel('Average throughput')\n",
    "\n",
    "ax2.set_xlabel('Quantum value')\n",
    "ax2.set_ylabel('Wait time')\n",
    "cpu1_kw = {'alpha':0.5, 'linestyle':'--'}\n",
    "cpu3_kw = {'alpha':0.5}\n",
    "plot_tp(ax1,best_tp_1cpus,**cpu1_kw)\n",
    "plot_tp(ax1,best_tp_3cpus,**cpu3_kw)\n",
    "plot_tp(ax1,tp_rl_1cpu)\n",
    "#(ax1,rl_cpu1_tp[0])\n",
    "plot_wt_per_q(ax2,cpu1_wt, **cpu1_kw)\n",
    "plot_wt_per_q(ax2,cpu3_wt, **cpu3_kw)\n",
    "custom_lines = [Line2D([0],[0],\n",
    "                       color=ptype2color[ptype],\n",
    "                       marker=ptype2marker[ptype]) for ptype in ptypes]\n",
    "ax1.legend(custom_lines, ptypes)\n",
    "plt.tight_layout()\n",
    "plt.show()"
   ]
  },
  {
   "cell_type": "code",
   "execution_count": null,
   "metadata": {},
   "outputs": [],
   "source": [
    "wait_time_per_t_rl, ptypes = param_per_t(rl_cpu1_qs, 'turnaround')[0]\n",
    "wait_time_per_t_rl = per_process_param_per_t(wait_time_per_t_rl, ptypes)"
   ]
  },
  {
   "cell_type": "code",
   "execution_count": null,
   "metadata": {
    "collapsed": true
   },
   "outputs": [],
   "source": []
  }
 ],
 "metadata": {
  "kernelspec": {
   "display_name": "Python 3",
   "language": "python",
   "name": "python3"
  },
  "language_info": {
   "codemirror_mode": {
    "name": "ipython",
    "version": 3
   },
   "file_extension": ".py",
   "mimetype": "text/x-python",
   "name": "python",
   "nbconvert_exporter": "python",
   "pygments_lexer": "ipython3",
   "version": "3.6.6"
  }
 },
 "nbformat": 4,
 "nbformat_minor": 2
}
